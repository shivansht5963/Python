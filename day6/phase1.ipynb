{
 "cells": [
  {
   "cell_type": "code",
   "execution_count": 1,
   "id": "c5945220",
   "metadata": {},
   "outputs": [
    {
     "name": "stdout",
     "output_type": "stream",
     "text": [
      "1D array: [1 2 3 4 5]\n",
      "2D array:\n",
      " [[1 2 3]\n",
      " [4 5 6]]\n",
      "Add 10 to each element: [11 12 13 14 15]\n",
      "Multiply each element by 2: [ 2  4  6  8 10]\n",
      "Mean: 3.0\n",
      "Sum: 15\n",
      "Max: 5\n"
     ]
    }
   ],
   "source": [
    "import numpy as np\n",
    "\n",
    "# Create a 1D numpy array\n",
    "arr = np.array([1, 2, 3, 4, 5])\n",
    "print(\"1D array:\", arr)\n",
    "\n",
    "# Create a 2D numpy array\n",
    "matrix = np.array([[1, 2, 3], [4, 5, 6]])\n",
    "print(\"2D array:\\n\", matrix)\n",
    "\n",
    "# Array arithmetic\n",
    "sum_arr = arr + 10\n",
    "print(\"Add 10 to each element:\", sum_arr)\n",
    "\n",
    "# Element-wise multiplication\n",
    "mult_arr = arr * 2\n",
    "print(\"Multiply each element by 2:\", mult_arr)\n",
    "\n",
    "# Basic statistics\n",
    "print(\"Mean:\", arr.mean())\n",
    "print(\"Sum:\", arr.sum())\n",
    "print(\"Max:\", arr.max())"
   ]
  },
  {
   "cell_type": "code",
   "execution_count": 2,
   "id": "06cc1bd1",
   "metadata": {},
   "outputs": [
    {
     "name": "stdout",
     "output_type": "stream",
     "text": [
      "Squared array: [ 1  4  9 16 25]\n",
      "Transposed matrix:\n",
      " [[1 4]\n",
      " [2 5]\n",
      " [3 6]]\n",
      "Dot product of arr with itself: 55\n",
      "Column-wise sum of matrix: [5 7 9]\n"
     ]
    }
   ],
   "source": [
    "# Square each element in arr\n",
    "squared_arr = arr ** 2\n",
    "print(\"Squared array:\", squared_arr)\n",
    "\n",
    "# Transpose the matrix\n",
    "transposed_matrix = matrix.T\n",
    "print(\"Transposed matrix:\\n\", transposed_matrix)\n",
    "\n",
    "# Dot product of arr with itself\n",
    "dot_product = np.dot(arr, arr)\n",
    "print(\"Dot product of arr with itself:\", dot_product)\n",
    "\n",
    "# Sum along columns of matrix\n",
    "col_sum = matrix.sum(axis=0)\n",
    "print(\"Column-wise sum of matrix:\", col_sum)"
   ]
  }
 ],
 "metadata": {
  "kernelspec": {
   "display_name": "Python 3",
   "language": "python",
   "name": "python3"
  },
  "language_info": {
   "codemirror_mode": {
    "name": "ipython",
    "version": 3
   },
   "file_extension": ".py",
   "mimetype": "text/x-python",
   "name": "python",
   "nbconvert_exporter": "python",
   "pygments_lexer": "ipython3",
   "version": "3.12.5"
  }
 },
 "nbformat": 4,
 "nbformat_minor": 5
}
